{
 "cells": [
  {
   "cell_type": "code",
   "execution_count": 1,
   "id": "f48b5eca",
   "metadata": {},
   "outputs": [],
   "source": [
    "#import libraries\n",
    "import numpy as np\n",
    "import pandas as pd\n",
    "import matplotlib.pyplot as plt\n",
    "import seaborn as sns\n",
    "%matplotlib inline\n",
    "\n",
    "import warnings\n",
    "warnings.filterwarnings(\"ignore\")"
   ]
  },
  {
   "cell_type": "code",
   "execution_count": 2,
   "id": "37eb4370",
   "metadata": {},
   "outputs": [],
   "source": [
    "#read the dataset\n",
    "filename = pd.read_csv(\"Dataset_w6.xlsx - Data.csv\")\n",
    "df = pd.DataFrame(filename)"
   ]
  },
  {
   "cell_type": "code",
   "execution_count": 3,
   "id": "bbc54c4b",
   "metadata": {},
   "outputs": [
    {
     "data": {
      "text/html": [
       "<div>\n",
       "<style scoped>\n",
       "    .dataframe tbody tr th:only-of-type {\n",
       "        vertical-align: middle;\n",
       "    }\n",
       "\n",
       "    .dataframe tbody tr th {\n",
       "        vertical-align: top;\n",
       "    }\n",
       "\n",
       "    .dataframe thead th {\n",
       "        text-align: right;\n",
       "    }\n",
       "</style>\n",
       "<table border=\"1\" class=\"dataframe\">\n",
       "  <thead>\n",
       "    <tr style=\"text-align: right;\">\n",
       "      <th></th>\n",
       "      <th>country</th>\n",
       "      <th>Region</th>\n",
       "      <th>Surface area (km2)</th>\n",
       "      <th>Population in thousands (2017)</th>\n",
       "      <th>GDP per capita (current US$)</th>\n",
       "      <th>Agricultural production index</th>\n",
       "      <th>International trade: Imports (million US$)</th>\n",
       "    </tr>\n",
       "  </thead>\n",
       "  <tbody>\n",
       "    <tr>\n",
       "      <th>0</th>\n",
       "      <td>Afghanistan</td>\n",
       "      <td>SouthernAsia</td>\n",
       "      <td>652864</td>\n",
       "      <td>35530</td>\n",
       "      <td>623.2</td>\n",
       "      <td>125</td>\n",
       "      <td>3568</td>\n",
       "    </tr>\n",
       "    <tr>\n",
       "      <th>1</th>\n",
       "      <td>Albania</td>\n",
       "      <td>SouthernEurope</td>\n",
       "      <td>28748</td>\n",
       "      <td>2930</td>\n",
       "      <td>3984.2</td>\n",
       "      <td>134</td>\n",
       "      <td>4669</td>\n",
       "    </tr>\n",
       "    <tr>\n",
       "      <th>2</th>\n",
       "      <td>Algeria</td>\n",
       "      <td>NorthernAfrica</td>\n",
       "      <td>2381741</td>\n",
       "      <td>41318</td>\n",
       "      <td>4154.1</td>\n",
       "      <td>160</td>\n",
       "      <td>47091</td>\n",
       "    </tr>\n",
       "    <tr>\n",
       "      <th>3</th>\n",
       "      <td>Angola</td>\n",
       "      <td>MiddleAfrica</td>\n",
       "      <td>1246700</td>\n",
       "      <td>29784</td>\n",
       "      <td>4714.1</td>\n",
       "      <td>175</td>\n",
       "      <td>8790</td>\n",
       "    </tr>\n",
       "    <tr>\n",
       "      <th>4</th>\n",
       "      <td>Antigua and Barbuda</td>\n",
       "      <td>Caribbean</td>\n",
       "      <td>442</td>\n",
       "      <td>102</td>\n",
       "      <td>14764.5</td>\n",
       "      <td>88</td>\n",
       "      <td>491</td>\n",
       "    </tr>\n",
       "  </tbody>\n",
       "</table>\n",
       "</div>"
      ],
      "text/plain": [
       "               country          Region  Surface area (km2)  \\\n",
       "0          Afghanistan    SouthernAsia              652864   \n",
       "1              Albania  SouthernEurope               28748   \n",
       "2              Algeria  NorthernAfrica             2381741   \n",
       "3               Angola    MiddleAfrica             1246700   \n",
       "4  Antigua and Barbuda       Caribbean                 442   \n",
       "\n",
       "   Population in thousands (2017)  GDP per capita (current US$)  \\\n",
       "0                           35530                         623.2   \n",
       "1                            2930                        3984.2   \n",
       "2                           41318                        4154.1   \n",
       "3                           29784                        4714.1   \n",
       "4                             102                       14764.5   \n",
       "\n",
       "   Agricultural production index   International trade: Imports (million US$)  \n",
       "0                             125                                        3568  \n",
       "1                             134                                        4669  \n",
       "2                             160                                       47091  \n",
       "3                             175                                        8790  \n",
       "4                              88                                         491  "
      ]
     },
     "execution_count": 3,
     "metadata": {},
     "output_type": "execute_result"
    }
   ],
   "source": [
    "df.head()"
   ]
  },
  {
   "cell_type": "code",
   "execution_count": 4,
   "id": "74745f70",
   "metadata": {},
   "outputs": [
    {
     "name": "stdout",
     "output_type": "stream",
     "text": [
      "<class 'pandas.core.frame.DataFrame'>\n",
      "RangeIndex: 196 entries, 0 to 195\n",
      "Data columns (total 7 columns):\n",
      " #   Column                                      Non-Null Count  Dtype  \n",
      "---  ------                                      --------------  -----  \n",
      " 0   country                                     196 non-null    object \n",
      " 1   Region                                      196 non-null    object \n",
      " 2   Surface area (km2)                          196 non-null    int64  \n",
      " 3   Population in thousands (2017)              196 non-null    int64  \n",
      " 4   GDP per capita (current US$)                196 non-null    float64\n",
      " 5   Agricultural production index               196 non-null    int64  \n",
      " 6   International trade: Imports (million US$)  196 non-null    int64  \n",
      "dtypes: float64(1), int64(4), object(2)\n",
      "memory usage: 9.2+ KB\n"
     ]
    }
   ],
   "source": [
    "df.info()"
   ]
  },
  {
   "cell_type": "markdown",
   "id": "3740b05e",
   "metadata": {},
   "source": [
    "# 1. Find out how many countries are there in the dataset?"
   ]
  },
  {
   "cell_type": "code",
   "execution_count": 5,
   "id": "694eece6",
   "metadata": {},
   "outputs": [
    {
     "data": {
      "text/plain": [
       "196"
      ]
     },
     "execution_count": 5,
     "metadata": {},
     "output_type": "execute_result"
    }
   ],
   "source": [
    "df['country'].value_counts().sum()"
   ]
  },
  {
   "cell_type": "markdown",
   "id": "de0acaf2",
   "metadata": {},
   "source": [
    "# 2. Examine the data by using visualizations."
   ]
  },
  {
   "cell_type": "code",
   "execution_count": 6,
   "id": "64c2b9b1",
   "metadata": {},
   "outputs": [
    {
     "data": {
      "text/html": [
       "<div>\n",
       "<style scoped>\n",
       "    .dataframe tbody tr th:only-of-type {\n",
       "        vertical-align: middle;\n",
       "    }\n",
       "\n",
       "    .dataframe tbody tr th {\n",
       "        vertical-align: top;\n",
       "    }\n",
       "\n",
       "    .dataframe thead th {\n",
       "        text-align: right;\n",
       "    }\n",
       "</style>\n",
       "<table border=\"1\" class=\"dataframe\">\n",
       "  <thead>\n",
       "    <tr style=\"text-align: right;\">\n",
       "      <th></th>\n",
       "      <th>country</th>\n",
       "      <th>Region</th>\n",
       "      <th>Surface area (km2)</th>\n",
       "      <th>Population in thousands (2017)</th>\n",
       "      <th>GDP per capita (current US$)</th>\n",
       "      <th>Agricultural production index</th>\n",
       "      <th>International trade: Imports (million US$)</th>\n",
       "    </tr>\n",
       "  </thead>\n",
       "  <tbody>\n",
       "    <tr>\n",
       "      <th>39</th>\n",
       "      <td>China</td>\n",
       "      <td>EasternAsia</td>\n",
       "      <td>9600000</td>\n",
       "      <td>1409517</td>\n",
       "      <td>8109.1</td>\n",
       "      <td>132</td>\n",
       "      <td>1588696</td>\n",
       "    </tr>\n",
       "    <tr>\n",
       "      <th>82</th>\n",
       "      <td>India</td>\n",
       "      <td>SouthernAsia</td>\n",
       "      <td>3287263</td>\n",
       "      <td>1339180</td>\n",
       "      <td>1614.2</td>\n",
       "      <td>143</td>\n",
       "      <td>356705</td>\n",
       "    </tr>\n",
       "    <tr>\n",
       "      <th>187</th>\n",
       "      <td>United States of America</td>\n",
       "      <td>NorthernAmerica</td>\n",
       "      <td>9833517</td>\n",
       "      <td>324460</td>\n",
       "      <td>56053.8</td>\n",
       "      <td>111</td>\n",
       "      <td>2249661</td>\n",
       "    </tr>\n",
       "    <tr>\n",
       "      <th>83</th>\n",
       "      <td>Indonesia</td>\n",
       "      <td>South-easternAsia</td>\n",
       "      <td>1910931</td>\n",
       "      <td>263991</td>\n",
       "      <td>3346.5</td>\n",
       "      <td>139</td>\n",
       "      <td>135653</td>\n",
       "    </tr>\n",
       "    <tr>\n",
       "      <th>23</th>\n",
       "      <td>Brazil</td>\n",
       "      <td>SouthAmerica</td>\n",
       "      <td>8515767</td>\n",
       "      <td>209288</td>\n",
       "      <td>8528.3</td>\n",
       "      <td>135</td>\n",
       "      <td>137552</td>\n",
       "    </tr>\n",
       "  </tbody>\n",
       "</table>\n",
       "</div>"
      ],
      "text/plain": [
       "                      country             Region  Surface area (km2)  \\\n",
       "39                      China        EasternAsia             9600000   \n",
       "82                      India       SouthernAsia             3287263   \n",
       "187  United States of America    NorthernAmerica             9833517   \n",
       "83                  Indonesia  South-easternAsia             1910931   \n",
       "23                     Brazil       SouthAmerica             8515767   \n",
       "\n",
       "     Population in thousands (2017)  GDP per capita (current US$)  \\\n",
       "39                          1409517                        8109.1   \n",
       "82                          1339180                        1614.2   \n",
       "187                          324460                       56053.8   \n",
       "83                           263991                        3346.5   \n",
       "23                           209288                        8528.3   \n",
       "\n",
       "     Agricultural production index   \\\n",
       "39                              132   \n",
       "82                              143   \n",
       "187                             111   \n",
       "83                              139   \n",
       "23                              135   \n",
       "\n",
       "     International trade: Imports (million US$)  \n",
       "39                                      1588696  \n",
       "82                                       356705  \n",
       "187                                     2249661  \n",
       "83                                       135653  \n",
       "23                                       137552  "
      ]
     },
     "execution_count": 6,
     "metadata": {},
     "output_type": "execute_result"
    }
   ],
   "source": [
    "top_df=df.sort_values(by=['Population in thousands (2017)'],ascending=False).head()\n",
    "top_df"
   ]
  },
  {
   "cell_type": "code",
   "execution_count": 7,
   "id": "0e8e8be6",
   "metadata": {},
   "outputs": [
    {
     "data": {
      "image/png": "[encoded data removed]",
      "text/plain": [
       "<Figure size 576x396 with 1 Axes>"
      ]
     },
     "metadata": {},
     "output_type": "display_data"
    }
   ],
   "source": [
    "plt.style.use('seaborn')\n",
    "sns.barplot(top_df['country'],top_df['Population in thousands (2017)'])\n",
    "plt.title(\"5 Countries having highest Population\",size=14)\n",
    "plt.xlabel('Country',size=13)\n",
    "plt.ylabel('Population',size=13)\n",
    "plt.xticks(rotation=90)\n",
    "\n",
    "plt.show()"
   ]
  },
  {
   "cell_type": "code",
   "execution_count": 8,
   "id": "05a0b715",
   "metadata": {},
   "outputs": [
    {
     "data": {
      "image/png": "[encoded data removed]",
      "text/plain": [
       "<Figure size 576x396 with 1 Axes>"
      ]
     },
     "metadata": {},
     "output_type": "display_data"
    }
   ],
   "source": [
    "sns.scatterplot(x='Surface area (km2)',y='Population in thousands (2017)',data=df)\n",
    "plt.style.use('seaborn')\n",
    "plt.title('Surface area vs Population',size=14)\n",
    "plt.tight_layout()"
   ]
  },
  {
   "cell_type": "code",
   "execution_count": 9,
   "id": "3849f90b",
   "metadata": {},
   "outputs": [
    {
     "data": {
      "image/png": "[encoded data removed]",
      "text/plain": [
       "<Figure size 576x396 with 1 Axes>"
      ]
     },
     "metadata": {},
     "output_type": "display_data"
    }
   ],
   "source": [
    "sns.scatterplot(x='GDP per capita (current US$)',y='International trade: Imports (million US$)',data=df)\n",
    "plt.title('GDP per capita vs International trade: Imports',size=14)\n",
    "plt.tight_layout()\n",
    "plt.show()"
   ]
  },
  {
   "cell_type": "code",
   "execution_count": 10,
   "id": "913f4706",
   "metadata": {},
   "outputs": [
    {
     "data": {
      "image/png": "[encoded data removed]",
      "text/plain": [
       "<Figure size 576x396 with 2 Axes>"
      ]
     },
     "metadata": {},
     "output_type": "display_data"
    }
   ],
   "source": [
    "sns.heatmap(df.corr(),annot=True)\n",
    "plt.xticks(rotation=90)\n",
    "plt.show()"
   ]
  },
  {
   "cell_type": "markdown",
   "id": "882c4eec",
   "metadata": {},
   "source": [
    "# 3. Find out how many countries with respect to the region are available in the dataset?"
   ]
  },
  {
   "cell_type": "code",
   "execution_count": 11,
   "id": "d2e4561c",
   "metadata": {},
   "outputs": [
    {
     "data": {
      "text/plain": [
       "WesternAsia          18\n",
       "EasternAfrica        17\n",
       "Caribbean            16\n",
       "WesternAfrica        15\n",
       "SouthernEurope       12\n",
       "SouthAmerica         12\n",
       "South-easternAsia    11\n",
       "EasternEurope        10\n",
       "NorthernEurope       10\n",
       "SouthernAsia          9\n",
       "MiddleAfrica          9\n",
       "CentralAmerica        8\n",
       "EasternAsia           7\n",
       "WesternEurope         7\n",
       "NorthernAfrica        5\n",
       "SouthernAfrica        5\n",
       "Melanesia             5\n",
       "Polynesia             5\n",
       "CentralAsia           5\n",
       "NorthernAmerica       4\n",
       "Micronesia            4\n",
       "Oceania               2\n",
       "Name: Region, dtype: int64"
      ]
     },
     "execution_count": 11,
     "metadata": {},
     "output_type": "execute_result"
    }
   ],
   "source": [
    "df['Region'].value_counts()"
   ]
  },
  {
   "cell_type": "markdown",
   "id": "501654a6",
   "metadata": {},
   "source": [
    "# 4. On average which region has the highest"
   ]
  },
  {
   "cell_type": "markdown",
   "id": "e9ab51b4",
   "metadata": {},
   "source": [
    "# a. GDP per capita (current US$)"
   ]
  },
  {
   "cell_type": "code",
   "execution_count": 12,
   "id": "1ce9c385",
   "metadata": {},
   "outputs": [],
   "source": [
    "df2=df.groupby('Region')['GDP per capita (current US$)'].mean()"
   ]
  },
  {
   "cell_type": "code",
   "execution_count": 13,
   "id": "5995f7e0",
   "metadata": {},
   "outputs": [
    {
     "data": {
      "text/plain": [
       "Region\n",
       "Caribbean            15135.562500\n",
       "CentralAmerica        6348.137500\n",
       "CentralAsia           4329.880000\n",
       "EasternAfrica         2088.852941\n",
       "EasternAsia          27967.614286\n",
       "EasternEurope         9292.490000\n",
       "Melanesia             9261.960000\n",
       "Micronesia            5008.300000\n",
       "MiddleAfrica          3928.833333\n",
       "NorthernAfrica        3934.960000\n",
       "NorthernAmerica      57659.000000\n",
       "NorthernEurope       42098.220000\n",
       "Oceania              44823.250000\n",
       "Polynesia             8686.520000\n",
       "South-easternAsia    10299.027273\n",
       "SouthAmerica          8499.775000\n",
       "SouthernAfrica        4191.900000\n",
       "SouthernAsia          2968.400000\n",
       "SouthernEurope       14462.741667\n",
       "WesternAfrica         1013.140000\n",
       "WesternAsia          17013.938889\n",
       "WesternEurope        55387.128571\n",
       "Name: GDP per capita (current US$), dtype: float64"
      ]
     },
     "execution_count": 13,
     "metadata": {},
     "output_type": "execute_result"
    }
   ],
   "source": [
    "df2"
   ]
  },
  {
   "cell_type": "code",
   "execution_count": 14,
   "id": "602bbb07",
   "metadata": {},
   "outputs": [
    {
     "data": {
      "text/plain": [
       "Region\n",
       "NorthernAmerica    57659.0\n",
       "Name: GDP per capita (current US$), dtype: float64"
      ]
     },
     "execution_count": 14,
     "metadata": {},
     "output_type": "execute_result"
    }
   ],
   "source": [
    "df2.sort_values().tail(1)"
   ]
  },
  {
   "cell_type": "markdown",
   "id": "94478bee",
   "metadata": {},
   "source": [
    "# b. International trade: Imports (million US$)"
   ]
  },
  {
   "cell_type": "code",
   "execution_count": 15,
   "id": "cf9763bf",
   "metadata": {},
   "outputs": [],
   "source": [
    "df3=df.groupby('Region')['International trade: Imports (million US$)'].mean()"
   ]
  },
  {
   "cell_type": "code",
   "execution_count": 16,
   "id": "0d1688f2",
   "metadata": {},
   "outputs": [
    {
     "data": {
      "text/plain": [
       "Region\n",
       "Caribbean              3057.312500\n",
       "CentralAmerica        57031.500000\n",
       "CentralAsia           12063.400000\n",
       "EasternAfrica          4726.176471\n",
       "EasternAsia          451995.000000\n",
       "EasternEurope         85243.900000\n",
       "Melanesia              2896.400000\n",
       "Micronesia               99.000000\n",
       "MiddleAfrica           4381.222222\n",
       "NorthernAfrica        35034.400000\n",
       "NorthernAmerica      663552.250000\n",
       "NorthernEurope       113407.200000\n",
       "Oceania              112914.500000\n",
       "Polynesia               432.000000\n",
       "South-easternAsia     98324.636364\n",
       "SouthAmerica          32885.666667\n",
       "SouthernAfrica        18005.600000\n",
       "SouthernAsia          58199.333333\n",
       "SouthernEurope        76666.666667\n",
       "WesternAfrica          4898.333333\n",
       "WesternAsia           46025.555556\n",
       "WesternEurope        407498.428571\n",
       "Name: International trade: Imports (million US$), dtype: float64"
      ]
     },
     "execution_count": 16,
     "metadata": {},
     "output_type": "execute_result"
    }
   ],
   "source": [
    "df3"
   ]
  },
  {
   "cell_type": "code",
   "execution_count": 17,
   "id": "57b2e994",
   "metadata": {},
   "outputs": [
    {
     "data": {
      "text/plain": [
       "Region\n",
       "NorthernAmerica    663552.25\n",
       "Name: International trade: Imports (million US$), dtype: float64"
      ]
     },
     "execution_count": 17,
     "metadata": {},
     "output_type": "execute_result"
    }
   ],
   "source": [
    "df3.sort_values().tail(1)"
   ]
  },
  {
   "cell_type": "markdown",
   "id": "6d20d184",
   "metadata": {},
   "source": [
    "# 5. Find out which region has more consistent with respect to GDP per capita (current US$)?"
   ]
  },
  {
   "cell_type": "code",
   "execution_count": 18,
   "id": "9dbe621b",
   "metadata": {},
   "outputs": [
    {
     "data": {
      "text/plain": [
       "Region\n",
       "Caribbean            14579.371326\n",
       "CentralAmerica        4180.440883\n",
       "CentralAsia           4152.215490\n",
       "EasternAfrica         3716.131770\n",
       "EasternAsia          27485.120923\n",
       "EasternEurope         5415.488739\n",
       "Melanesia            13855.842686\n",
       "Micronesia            4820.669694\n",
       "MiddleAfrica          5274.846281\n",
       "NorthernAfrica         974.706575\n",
       "NorthernAmerica      25749.619445\n",
       "NorthernEurope       20671.030185\n",
       "Oceania               9233.329638\n",
       "Polynesia             6956.250286\n",
       "South-easternAsia    16311.810656\n",
       "SouthAmerica          4273.707394\n",
       "SouthernAfrica        2177.551120\n",
       "SouthernAsia          2855.708179\n",
       "SouthernEurope        9541.703216\n",
       "WesternAfrica          815.095399\n",
       "WesternAsia          18812.151459\n",
       "WesternEurope        24770.467728\n",
       "Name: GDP per capita (current US$), dtype: float64"
      ]
     },
     "execution_count": 18,
     "metadata": {},
     "output_type": "execute_result"
    }
   ],
   "source": [
    "df4=df.groupby('Region')['GDP per capita (current US$)'].std()\n",
    "df4"
   ]
  },
  {
   "cell_type": "code",
   "execution_count": 19,
   "id": "c477703d",
   "metadata": {},
   "outputs": [
    {
     "data": {
      "text/plain": [
       "Region\n",
       "WesternAfrica    815.095399\n",
       "Name: GDP per capita (current US$), dtype: float64"
      ]
     },
     "execution_count": 19,
     "metadata": {},
     "output_type": "execute_result"
    }
   ],
   "source": [
    "df4.sort_values().head(1)"
   ]
  }
 ],
 "metadata": {
  "kernelspec": {
   "display_name": "Python 3",
   "language": "python",
   "name": "python3"
  },
  "language_info": {
   "codemirror_mode": {
    "name": "ipython",
    "version": 3
   },
   "file_extension": ".py",
   "mimetype": "text/x-python",
   "name": "python",
   "nbconvert_exporter": "python",
   "pygments_lexer": "ipython3",
   "version": "3.8.8"
  }
 },
 "nbformat": 4,
 "nbformat_minor": 5
}
